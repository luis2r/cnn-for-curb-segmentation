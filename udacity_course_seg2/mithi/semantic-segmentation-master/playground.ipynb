{
 "cells": [
  {
   "cell_type": "code",
   "execution_count": 1,
   "metadata": {},
   "outputs": [],
   "source": [
    "import tensorflow as tf\n",
    "import os.path\n",
    "import warnings\n",
    "from distutils.version import LooseVersion\n",
    "import glob\n",
    "\n",
    "import helper\n",
    "import project_tests as tests"
   ]
  },
  {
   "cell_type": "code",
   "execution_count": 2,
   "metadata": {},
   "outputs": [
    {
     "name": "stdout",
     "output_type": "stream",
     "text": [
      "TensorFlow Version: 1.8.0\n"
     ]
    }
   ],
   "source": [
    "# Check TensorFlow Version\n",
    "assert LooseVersion(tf.__version__) >= LooseVersion('1.0'), 'Please use TensorFlow version 1.0 or newer.  You are using {}'.format(tf.__version__)\n",
    "print('TensorFlow Version: {}'.format(tf.__version__))"
   ]
  },
  {
   "cell_type": "code",
   "execution_count": 3,
   "metadata": {},
   "outputs": [
    {
     "name": "stdout",
     "output_type": "stream",
     "text": [
      "Default GPU Device: /device:GPU:0\n"
     ]
    }
   ],
   "source": [
    "# Check for a GPU\n",
    "if not tf.test.gpu_device_name():\n",
    "  warnings.warn('No GPU found. Please use a GPU to train your neural network.')\n",
    "else:\n",
    "  print('Default GPU Device: {}'.format(tf.test.gpu_device_name()))"
   ]
  },
  {
   "cell_type": "code",
   "execution_count": 4,
   "metadata": {},
   "outputs": [],
   "source": [
    "DATA_DIRECTORY = '/home/shared/datasets'\n",
    "RUNS_DIRECTORY = './runs'\n",
    "TRAINING_DATA_DIRECTORY ='/home/shared/datasets/data_road/training'\n",
    "NUMBER_OF_IMAGES = len(glob.glob('/home/shared/datasets/data_road/training/calib/*.*'))\n",
    "VGG_PATH = '/home/shared/datasets/vgg'"
   ]
  },
  {
   "cell_type": "code",
   "execution_count": 5,
   "metadata": {},
   "outputs": [],
   "source": [
    "NUMBER_OF_CLASSES = 2\n",
    "IMAGE_SHAPE = (160, 576)\n",
    "\n",
    "EPOCHS = 20\n",
    "BATCH_SIZE = 1\n",
    "\n",
    "LEARNING_RATE = 0.0001\n",
    "DROPOUT = 0.75"
   ]
  },
  {
   "cell_type": "code",
   "execution_count": 6,
   "metadata": {},
   "outputs": [],
   "source": [
    "correct_label = tf.placeholder(tf.float32, [None, IMAGE_SHAPE[0], IMAGE_SHAPE[1], NUMBER_OF_CLASSES])\n",
    "learning_rate = tf.placeholder(tf.float32)\n",
    "keep_prob = tf.placeholder(tf.float32)"
   ]
  },
  {
   "cell_type": "code",
   "execution_count": 7,
   "metadata": {},
   "outputs": [],
   "source": [
    "# Used for plotting to visualize if our training is going well given parameters\n",
    "all_training_losses = [] "
   ]
  },
  {
   "cell_type": "code",
   "execution_count": 8,
   "metadata": {},
   "outputs": [],
   "source": [
    "def load_vgg(sess, vgg_path):\n",
    "  \"\"\"\n",
    "  Load Pretrained VGG Model into TensorFlow.\n",
    "  sess: TensorFlow Session\n",
    "  vgg_path: Path to vgg folder, containing \"variables/\" and \"saved_model.pb\"\n",
    "  return: Tuple of Tensors from VGG model (image_input, keep_prob, layer3, layer4, layer7)\n",
    "  \"\"\"\n",
    "  # load the model and weights\n",
    "  model = tf.saved_model.loader.load(sess, ['vgg16'], vgg_path)\n",
    "\n",
    "  # Get Tensors to be returned from graph\n",
    "  graph = tf.get_default_graph()\n",
    "  image_input = graph.get_tensor_by_name('image_input:0')\n",
    "  keep_prob = graph.get_tensor_by_name('keep_prob:0')\n",
    "  layer3 = graph.get_tensor_by_name('layer3_out:0')\n",
    "  layer4 = graph.get_tensor_by_name('layer4_out:0')\n",
    "  layer7 = graph.get_tensor_by_name('layer7_out:0')\n",
    "\n",
    "  return image_input, keep_prob, layer3, layer4, layer7"
   ]
  },
  {
   "cell_type": "code",
   "execution_count": 9,
   "metadata": {},
   "outputs": [],
   "source": [
    "def conv_1x1(layer, layer_name):\n",
    "  \"\"\" Return the output of a 1x1 convolution of a layer \"\"\"\n",
    "  return tf.layers.conv2d(inputs = layer,\n",
    "                          filters =  NUMBER_OF_CLASSES,\n",
    "                          kernel_size = (1, 1),\n",
    "                          strides = (1, 1),\n",
    "                          name = layer_name)"
   ]
  },
  {
   "cell_type": "code",
   "execution_count": 10,
   "metadata": {},
   "outputs": [],
   "source": [
    "def upsample(layer, k, s, layer_name):\n",
    "  \"\"\" Return the output of transpose convolution given kernel_size k and strides s \"\"\"\n",
    "  # See: http://deeplearning.net/software/theano/tutorial/conv_arithmetic.html#transposed-convolution-arithmetic\n",
    "  return tf.layers.conv2d_transpose(inputs = layer,\n",
    "                                    filters = NUMBER_OF_CLASSES,\n",
    "                                    kernel_size = (k, k),\n",
    "                                    strides = (s, s),\n",
    "                                    padding = 'same',\n",
    "                                    name = layer_name)"
   ]
  },
  {
   "cell_type": "code",
   "execution_count": 11,
   "metadata": {},
   "outputs": [],
   "source": [
    "def layers(vgg_layer3_out, vgg_layer4_out, vgg_layer7_out, num_classes = NUMBER_OF_CLASSES):\n",
    "  \"\"\"\n",
    "  Create the layers for a fully convolutional network.  Build skip-layers using the vgg layers.\n",
    "  vgg_layerX_out: TF Tensor for VGG Layer X output\n",
    "  num_classes: Number of classes to classify\n",
    "  return: The Tensor for the last layer of output\n",
    "  \"\"\"\n",
    "\n",
    "  # Use a shorter variable name for simplicity\n",
    "  layer3, layer4, layer7 = vgg_layer3_out, vgg_layer4_out, vgg_layer7_out\n",
    "\n",
    "  # Apply a 1x1 convolution to encoder layers\n",
    "  layer3x = conv_1x1(layer = layer3, layer_name = \"layer3conv1x1\")\n",
    "  layer4x = conv_1x1(layer = layer4, layer_name = \"layer4conv1x1\")\n",
    "  layer7x = conv_1x1(layer = layer7, layer_name = \"layer7conv1x1\")\n",
    " \n",
    "  # Add decoder layers to the network with skip connections and upsampling\n",
    "  # Note: the kernel size and strides are the same as the example in Udacity Lectures\n",
    "  #       Semantic Segmentation Scene Understanding Lesson 10-9: FCN-8 - Decoder\n",
    "  decoderlayer1 = upsample(layer = layer7x, k = 4, s = 2, layer_name = \"decoderlayer1\")\n",
    "  decoderlayer2 = tf.add(decoderlayer1, layer4x, name = \"decoderlayer2\")\n",
    "  decoderlayer3 = upsample(layer = decoderlayer2, k = 4, s = 2, layer_name = \"decoderlayer3\")\n",
    "  decoderlayer4 = tf.add(decoderlayer3, layer3x, name = \"decoderlayer4\")\n",
    "  decoderlayer_output = upsample(layer = decoderlayer4, k = 16, s = 8, layer_name = \"decoderlayer_output\")\n",
    "\n",
    "  return decoderlayer_output"
   ]
  },
  {
   "cell_type": "code",
   "execution_count": 12,
   "metadata": {},
   "outputs": [],
   "source": [
    "def layers_verbose(vgg_layer3_out, vgg_layer4_out, vgg_layer7_out, num_classes = NUMBER_OF_CLASSES):\n",
    "\n",
    "  # Use a shorter variable name for simplicity\n",
    "  layer3, layer4, layer7 = vgg_layer3_out, vgg_layer4_out, vgg_layer7_out\n",
    "\n",
    "  # Apply a 1x1 convolution to encoder layers\n",
    "  layer3x = conv_1x1(layer = layer3, layer_name = \"layer3conv1x1\")\n",
    "  layer4x = conv_1x1(layer = layer4, layer_name = \"layer4conv1x1\")\n",
    "  layer7x = conv_1x1(layer = layer7, layer_name = \"layer7conv1x1\")\n",
    " \n",
    "  decoderlayer1 = upsample(layer = layer7x, k = 4, s = 2, layer_name = \"decoderlayer1\")\n",
    "  decoderlayer2 = tf.add(decoderlayer1, layer4x, name = \"decoderlayer2\")\n",
    "  decoderlayer3 = upsample(layer = decoderlayer2, k = 4, s = 2, layer_name = \"decoderlayer3\")\n",
    "  decoderlayer4 = tf.add(decoderlayer3, layer3x, name = \"decoderlayer4\")\n",
    "  decoderlayer_output = upsample(layer = decoderlayer4, k = 16, s = 8, layer_name = \"decoderlayer_output\")\n",
    "\n",
    "  return layer3, layer4, layer7, layer3x, layer4x, layer7x, \\\n",
    "         decoderlayer1, decoderlayer2, decoderlayer3, decoderlayer4, decoderlayer_output"
   ]
  },
  {
   "cell_type": "code",
   "execution_count": 13,
   "metadata": {},
   "outputs": [],
   "source": [
    "def optimize(nn_last_layer, correct_label, learning_rate, num_classes = NUMBER_OF_CLASSES):\n",
    "  \"\"\"\n",
    "  Build the TensorFLow loss and optimizer operations.\n",
    "  nn_last_layer: TF Tensor of the last layer in the neural network\n",
    "  correct_label: TF Placeholder for the correct label image\n",
    "  learning_rate: TF Placeholder for the learning rate\n",
    "  num_classes: Number of classes to classify\n",
    "  return: Tuple of (logits, train_op, cross_entropy_loss)\n",
    "  \"\"\"\n",
    "  # reshape 4D tensors to 2D\n",
    "  # Each row represents a pixel, each column a class\n",
    "  logits = tf.reshape(nn_last_layer, (-1, num_classes))\n",
    "  class_labels = tf.reshape(correct_label, (-1, num_classes))\n",
    "\n",
    "  # The cross_entropy_loss is the cost which we are trying to minimize to yield higher accuracy\n",
    "  cross_entropy = tf.nn.softmax_cross_entropy_with_logits(logits = logits, labels = class_labels)\n",
    "  cross_entropy_loss = tf.reduce_mean(cross_entropy)\n",
    "\n",
    "  # The model implements this operation to find the weights/parameters that would yield correct pixel labels\n",
    "  train_op = tf.train.AdamOptimizer(learning_rate).minimize(cross_entropy_loss)\n",
    "\n",
    "  return logits, train_op, cross_entropy_loss\n"
   ]
  },
  {
   "cell_type": "code",
   "execution_count": 14,
   "metadata": {},
   "outputs": [],
   "source": [
    "def train_nn(sess, epochs, batch_size, get_batches_fn, train_op,\n",
    "             cross_entropy_loss, input_image,\n",
    "             correct_label, keep_prob, learning_rate):\n",
    "  \"\"\"\n",
    "  Train neural network and print out the loss during training.\n",
    "  sess: TF Session\n",
    "  epochs: Number of epochs\n",
    "  batch_size: Batch size\n",
    "  get_batches_fn: Function to get batches of training data.  Call using get_batches_fn(batch_size)\n",
    "  train_op: TF Operation to train the neural network\n",
    "  cross_entropy_loss: TF Tensor for the amount of loss\n",
    "  input_image: TF Placeholder for input images\n",
    "  correct_label: TF Placeholder for label images\n",
    "  keep_prob: TF Placeholder for dropout keep probability\n",
    "  learning_rate: TF Placeholder for learning rate\n",
    "  \"\"\"\n",
    "\n",
    "  for epoch in range(EPOCHS):\n",
    "    \n",
    "    losses, i = [], 0\n",
    "    \n",
    "    for images, labels in get_batches_fn(BATCH_SIZE):\n",
    "        \n",
    "      i += 1\n",
    "    \n",
    "      feed = { input_image: images,\n",
    "               correct_label: labels,\n",
    "               keep_prob: DROPOUT,\n",
    "               learning_rate: LEARNING_RATE }\n",
    "        \n",
    "      _, partial_loss = sess.run([train_op, cross_entropy_loss], feed_dict = feed)\n",
    "      \n",
    "      print(\"---> iteration: \", i, \" partial loss:\", partial_loss)\n",
    "      losses.append(partial_loss)\n",
    "          \n",
    "    training_loss = sum(losses) / len(losses)\n",
    "    all_training_losses.append(training_loss)\n",
    "    \n",
    "    print(\"------------------\")\n",
    "    print(\"epoch: \", epoch + 1, \" of \", EPOCHS, \"training loss: \", training_loss)\n",
    "    print(\"------------------\")\n",
    "    "
   ]
  },
  {
   "cell_type": "code",
   "execution_count": 15,
   "metadata": {},
   "outputs": [],
   "source": [
    "def run_tests():\n",
    "  tests.test_layers(layers)\n",
    "  tests.test_optimize(optimize)\n",
    "  tests.test_for_kitti_dataset(DATA_DIRECTORY)\n",
    "  tests.test_train_nn(train_nn)"
   ]
  },
  {
   "cell_type": "code",
   "execution_count": 16,
   "metadata": {},
   "outputs": [],
   "source": [
    "def run():\n",
    "  print(\"NUMBER OF IMAGES:\", NUMBER_OF_IMAGES)\n",
    "\n",
    "  # download vgg model\n",
    "  helper.maybe_download_pretrained_vgg(DATA_DIRECTORY)\n",
    "\n",
    "  # A function to get batches\n",
    "  get_batches_fn = helper.gen_batch_function(TRAINING_DATA_DIRECTORY, IMAGE_SHAPE)\n",
    "  \n",
    "  with tf.Session() as session:\n",
    "        \n",
    "    # Returns the three layers, keep probability and input layer from the vgg architecture\n",
    "    image_input, keep_prob, layer3, layer4, layer7 = load_vgg(session, VGG_PATH)\n",
    "\n",
    "    # The resulting network architecture, adding a decoder on top of the given vgg model\n",
    "    model_output = layers(layer3, layer4, layer7, NUMBER_OF_CLASSES)\n",
    "\n",
    "    # Returns the output logits, training operation and cost operation to be used\n",
    "    # For the logits: each row represents a pixel, each column a class\n",
    "    # training operation is what is used to get the right parameters to the model to correctly label the pixels\n",
    "    # the cross entropy loss is the cost which we are minimizing, lower cost should yield higher accuracy\n",
    "    logits, train_op, cross_entropy_loss = optimize(model_output, correct_label, learning_rate, NUMBER_OF_CLASSES)\n",
    "    \n",
    "    # Initilize all variables\n",
    "    session.run([tf.global_variables_initializer(), tf.local_variables_initializer()])\n",
    "\n",
    "    # train the neural network\n",
    "    train_nn(session, EPOCHS, BATCH_SIZE, get_batches_fn, \n",
    "             train_op, cross_entropy_loss, image_input,\n",
    "             correct_label, keep_prob, learning_rate)\n",
    "\n",
    "    # Save inference data\n",
    "    helper.save_inference_samples(RUNS_DIRECTORY, DATA_DIRECTORY, session, IMAGE_SHAPE, logits, keep_prob, image_input)"
   ]
  },
  {
   "cell_type": "code",
   "execution_count": 17,
   "metadata": {},
   "outputs": [],
   "source": [
    "import numpy as np \n",
    "\n",
    "def network_shapes():\n",
    "  with tf.Session() as sess:\n",
    "    \n",
    "    x = np.random.randn(1, 160, 576, 3)\n",
    "    \n",
    "    image_input, keep_prob, layer3, layer4, layer7 = load_vgg(sess, VGG_PATH)\n",
    " \n",
    "    op = layers_verbose(layer3, layer4, layer7, NUMBER_OF_CLASSES)\n",
    "  \n",
    "    sess.run([tf.global_variables_initializer(), tf.local_variables_initializer()])\n",
    "\n",
    "    l3, l4, l7, l3x, l4x, l7x, d1, s2, d3, s4, d5 = sess.run(op, feed_dict = {image_input: x, keep_prob: 1.0})\n",
    "\n",
    "    print(\"------------------\")\n",
    "    print(\"shapes of layers:\") \n",
    "    print(\"------------------\")\n",
    "\n",
    "    print(\"layer3 -->\", l3.shape)\n",
    "    print(\"layer4 -->\", l4.shape)\n",
    "    print(\"layer7 -->\", l7.shape)\n",
    "    print(\"layer3 conv1x1 -->\", l3x.shape)\n",
    "    print(\"layer4 conv1x1 -->\", l4x.shape)\n",
    "    print(\"layer7 conv1x1-->\", l7x.shape)\n",
    "    print(\"decoderlayer1 transpose: layer7 k = 4 s = 2 -->\", d1.shape)\n",
    "    print(\"decoderlayer2 skip: decoderlayer1 and layer4conv1x1 -->\", s2.shape)\n",
    "    print(\"decoderlayer3 transpose: decoderlayer2 k = 4 s = 2 -->\", d3.shape)\n",
    "    print(\"decoderlayer4 skip: decoderlayer3 and layer3conv1x1 -->\", s4.shape)\n",
    "    print(\"decoderlayer5 transpose: decoderlayer4 k = 16 s = 8 -->\", d5.shape)"
   ]
  },
  {
   "cell_type": "markdown",
   "metadata": {},
   "source": [
    "# `network_shape()`\n",
    "- for the transpose layers **`s = stride`** and **`k = kernel/filter_size`**\n",
    "- running **`network_shape()`** will output the following:\n",
    "\n",
    "\n",
    "```\n",
    "------------------\n",
    "shapes of layers:\n",
    "------------------\n",
    "layer3 --> (1, 20, 72, 256)\n",
    "layer4 --> (1, 10, 36, 512)\n",
    "layer7 --> (1, 5, 18, 4096)\n",
    "layer3 conv1x1 --> (1, 20, 72, 2)\n",
    "layer4 conv1x1 --> (1, 10, 36, 2)\n",
    "layer7 conv1x1--> (1, 5, 18, 2)\n",
    "decoderlayer1 transpose: layer7 k = 4 s = 2 --> (1, 10, 36, 2)\n",
    "decoderlayer2 skip: decoderlayer1 and layer4conv1x1 --> (1, 10, 36, 2)\n",
    "decoderlayer3 transpose: decoderlayer2 k = 4 s = 2 --> (1, 20, 72, 2)\n",
    "decoderlayer4 skip: decoderlayer3 and layer3conv1x1 --> (1, 20, 72, 2)\n",
    "decoderlayer5 transpose: decoderlayer4 k = 16 s = 8 --> (1, 160, 576, 2)\n",
    "```"
   ]
  },
  {
   "cell_type": "code",
   "execution_count": null,
   "metadata": {},
   "outputs": [
    {
     "name": "stdout",
     "output_type": "stream",
     "text": [
      "NUMBER OF IMAGES: 289\n",
      "INFO:tensorflow:Restoring parameters from b'/home/shared/datasets/vgg/variables/variables'\n",
      "WARNING:tensorflow:From <ipython-input-13-b8179cf1b687>:16: softmax_cross_entropy_with_logits (from tensorflow.python.ops.nn_ops) is deprecated and will be removed in a future version.\n",
      "Instructions for updating:\n",
      "\n",
      "Future major versions of TensorFlow will allow gradients to flow\n",
      "into the labels input on backprop by default.\n",
      "\n",
      "See @{tf.nn.softmax_cross_entropy_with_logits_v2}.\n",
      "\n"
     ]
    }
   ],
   "source": [
    "# Train the network\n",
    "run()"
   ]
  },
  {
   "cell_type": "code",
   "execution_count": 19,
   "metadata": {
    "scrolled": true
   },
   "outputs": [
    {
     "data": {
      "text/plain": [
       "[2.4432122002010939]"
      ]
     },
     "execution_count": 19,
     "metadata": {},
     "output_type": "execute_result"
    }
   ],
   "source": [
    "all_training_losses"
   ]
  },
  {
   "cell_type": "code",
   "execution_count": null,
   "metadata": {
    "collapsed": true
   },
   "outputs": [],
   "source": []
  }
 ],
 "metadata": {
  "kernelspec": {
   "display_name": "Python 3",
   "language": "python",
   "name": "python3"
  },
  "language_info": {
   "codemirror_mode": {
    "name": "ipython",
    "version": 3
   },
   "file_extension": ".py",
   "mimetype": "text/x-python",
   "name": "python",
   "nbconvert_exporter": "python",
   "pygments_lexer": "ipython3",
   "version": "3.6.5"
  },
  "widgets": {
   "state": {},
   "version": "1.1.2"
  }
 },
 "nbformat": 4,
 "nbformat_minor": 2
}
